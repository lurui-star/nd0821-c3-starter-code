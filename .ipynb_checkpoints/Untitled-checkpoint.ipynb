{
 "cells": [
  {
   "cell_type": "code",
   "execution_count": 1,
   "id": "40cb7ed7-d17f-4bff-aca6-e9ccb85600e7",
   "metadata": {},
   "outputs": [],
   "source": [
    "import os"
   ]
  },
  {
   "cell_type": "code",
   "execution_count": 14,
   "id": "a4a1239a-d4b1-40a8-9828-f62c72802236",
   "metadata": {},
   "outputs": [
    {
     "name": "stdout",
     "output_type": "stream",
     "text": [
      "/Users/ruilu/nd0821-c3-starter-code/nd0821-c3-starter-code/model/best_model.pkl\n"
     ]
    }
   ],
   "source": [
    "pth = '../nd0821-c3-starter-code/model/best_model.pkl'\n",
    "# Get the current working directory and combine it with the relative path\n",
    "full_path = os.path.abspath(os.path.join(os.getcwd(), pth))\n",
    "print(full_path)"
   ]
  },
  {
   "cell_type": "code",
   "execution_count": 10,
   "id": "083ea824-c616-42ac-837c-a4ae2afb224d",
   "metadata": {},
   "outputs": [],
   "source": [
    "full_path = os.path.join(os.getcwd(), pth)"
   ]
  },
  {
   "cell_type": "code",
   "execution_count": 11,
   "id": "19689fb7-59cb-44e2-b3a9-4594ff2e7c3c",
   "metadata": {},
   "outputs": [
    {
     "data": {
      "text/plain": [
       "'/Users/ruilu/nd0821-c3-starter-code/starter/../nd0821-c3-starter-code/model/best_model.pkl'"
      ]
     },
     "execution_count": 11,
     "metadata": {},
     "output_type": "execute_result"
    }
   ],
   "source": [
    "full_path"
   ]
  },
  {
   "cell_type": "code",
   "execution_count": null,
   "id": "ef5728a0-618c-4a7e-937b-1341a7283f77",
   "metadata": {},
   "outputs": [],
   "source": []
  }
 ],
 "metadata": {
  "kernelspec": {
   "display_name": "Python 3 (ipykernel)",
   "language": "python",
   "name": "python3"
  },
  "language_info": {
   "codemirror_mode": {
    "name": "ipython",
    "version": 3
   },
   "file_extension": ".py",
   "mimetype": "text/x-python",
   "name": "python",
   "nbconvert_exporter": "python",
   "pygments_lexer": "ipython3",
   "version": "3.10.16"
  }
 },
 "nbformat": 4,
 "nbformat_minor": 5
}
