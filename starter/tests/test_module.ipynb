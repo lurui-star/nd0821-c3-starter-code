{
 "cells": [
  {
   "cell_type": "code",
   "execution_count": 9,
   "id": "a2a0b9b0-e21a-40ae-8965-b0ea6d0ad673",
   "metadata": {},
   "outputs": [],
   "source": [
    "import os\n",
    "import pandas as pd\n",
    "from pipeline.data import import_data ,process_data\n",
    "from sklearn.model_selection import train_test_split\n",
    "import pytest\n",
    "import yaml"
   ]
  },
  {
   "cell_type": "code",
   "execution_count": 10,
   "id": "40dcebc0-5533-4157-9582-e921a6beb52c",
   "metadata": {},
   "outputs": [],
   "source": [
    "with open(\"config.yaml\", \"r\") as file:\n",
    "    config = yaml.safe_load(file)"
   ]
  },
  {
   "cell_type": "markdown",
   "id": "87623a87-8adc-4ec9-a422-d37262279bfc",
   "metadata": {},
   "source": [
    "### prepare for test data and train-test-split"
   ]
  },
  {
   "cell_type": "code",
   "execution_count": 11,
   "id": "7dfb9de1-49ae-4b94-b458-3635e6636dc8",
   "metadata": {},
   "outputs": [],
   "source": [
    "@pytest.fixture(scope='session')\n",
    "def load_data():\n",
    "    \"\"\"\n",
    "    Data loaded from csv file used for tests\n",
    "\n",
    "    Returns:\n",
    "       X and y for tests\n",
    "    \"\"\"\n",
    "    if not os.path.exists(config['main']['data']['pth']):\n",
    "        pytest.fail(f\"Data not found at path: {config['main']['data']['pth']}\")\n",
    "    df = import_data(config[\"main\"][\"data\"][\"pth\"])\n",
    "\n",
    "    X, y = process_data(df, config[\"main\"][\"data\"][\"categorical_features\"], config[\"main\"][\"data\"][\"label\"])\n",
    "    return X,y"
   ]
  },
  {
   "cell_type": "code",
   "execution_count": 12,
   "id": "a9f14215-a818-48b3-bff9-33f967edc2ab",
   "metadata": {},
   "outputs": [],
   "source": [
    "@pytest.fixture(scope='session')\n",
    "def train_test_split():\n",
    "    if not os.path.exists(config['main']['data']['pth']):\n",
    "        pytest.fail(f\"Data not found at path: {config['main']['data']['pth']}\")\n",
    "    \n",
    "    df = import_data(config[\"main\"][\"data\"][\"pth\"])\n",
    "    X, y = process_data(df, config[\"main\"][\"data\"][\"categorical_features\"], config[\"main\"][\"data\"][\"label\"])\n",
    "    X_train, X_val, y_train, y_val = train_test_split(X, y, test_size=config[\"main\"][\"train_test_split\"][\"test_size\"], random_state=config[\"main\"][\"train_test_split\"][\"random_state\"])\n",
    "\n",
    "    return X_train, X_val, y_train, y_val"
   ]
  },
  {
   "cell_type": "markdown",
   "id": "b0bfb068-ee39-45cf-b4a1-bf2a9ef77d7a",
   "metadata": {},
   "source": [
    "### Start test section "
   ]
  },
  {
   "cell_type": "code",
   "execution_count": 13,
   "id": "ee864c59-66c3-479e-8fa4-3c3a93f6ab72",
   "metadata": {},
   "outputs": [],
   "source": [
    "def test_columns_exist(load_data):\n",
    "    \"\"\"\n",
    "    Test if all expected columns exist in the DataFrame.\n",
    "\n",
    "    Args:\n",
    "      load_data: Data to be tested (pandas DataFrame)\n",
    "    \"\"\"\n",
    "    # Assume load_data is a DataFrame or similar structure\n",
    "    X,y = load_data  # load_data is passed automatically by pytest as a fixture\n",
    "\n",
    "    # List of expected columns\n",
    "    expected_columns = [\n",
    "        'age',\n",
    "        'workclass',\n",
    "        'fnlgt',\n",
    "        'education',\n",
    "        'education_num',\n",
    "        'marital_status',\n",
    "        'occupation',\n",
    "        'relationship',\n",
    "        'race',\n",
    "        'sex',\n",
    "        'capital-gain',\n",
    "        'capital-loss',\n",
    "        'hours-per_week',\n",
    "        'native-country',\n",
    "        'salary'\n",
    "    ]\n",
    "\n",
    "    # Check if each expected column is in the DataFrame\n",
    "    for column in expected_columns:\n",
    "        assert column in X.columns, f\"Column '{column}' is missing in the DataFrame.\"\n",
    "\n",
    "    # If necessary, you can also print out the columns that were found for verification\n",
    "    print(\"Found columns in DataFrame:\", X.columns)\n"
   ]
  },
  {
   "cell_type": "code",
   "execution_count": 21,
   "id": "5c33c1db-ed73-4e72-b6e9-9409a02d7dcb",
   "metadata": {},
   "outputs": [
    {
     "name": "stdout",
     "output_type": "stream",
     "text": [
      "/Users/ruilu/miniconda3/envs/buildAPI/bin/python\n"
     ]
    }
   ],
   "source": [
    "import sys\n",
    "print(sys.executable)"
   ]
  },
  {
   "cell_type": "code",
   "execution_count": 62,
   "id": "946d6845-a41a-4236-8d57-208935ccdc77",
   "metadata": {},
   "outputs": [
    {
     "name": "stdout",
     "output_type": "stream",
     "text": [
      "/bin/bash: pytest: command not found\n"
     ]
    }
   ],
   "source": [
    "!pytest --maxfail=1 --disable-warnings -q"
   ]
  },
  {
   "cell_type": "code",
   "execution_count": null,
   "id": "235e02ac-b806-4a5f-90ae-cd9606b14a66",
   "metadata": {},
   "outputs": [],
   "source": []
  }
 ],
 "metadata": {
  "kernelspec": {
   "display_name": "Python 3 (ipykernel)",
   "language": "python",
   "name": "python3"
  },
  "language_info": {
   "codemirror_mode": {
    "name": "ipython",
    "version": 3
   },
   "file_extension": ".py",
   "mimetype": "text/x-python",
   "name": "python",
   "nbconvert_exporter": "python",
   "pygments_lexer": "ipython3",
   "version": "3.10.16"
  }
 },
 "nbformat": 4,
 "nbformat_minor": 5
}
