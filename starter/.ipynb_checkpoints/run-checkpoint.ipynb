{
 "cells": [
  {
   "cell_type": "code",
   "execution_count": 1,
   "id": "0d2ac8fd-ff5c-41ed-a413-a7b70df240ac",
   "metadata": {},
   "outputs": [],
   "source": [
    "import sys\n",
    "import joblib\n",
    "import logging\n",
    "from sklearn.model_selection import train_test_split\n",
    "from pipeline.data import import_data\n",
    "from pipeline.data import process_data\n",
    "from pipeline.run_evaluation import run_evaluate_model\n",
    "from pipeline import utils\n",
    "from pipeline.model import get_model_pipeline\n",
    "from pipeline.model import train_model\n",
    "from pipeline.model import train\n",
    "from pipeline.model import inference\n",
    "from pipeline.evaluate_functions import compute_model_metrics\n",
    "import xgboost as xgb\n",
    "from sklearn.linear_model import LogisticRegression\n",
    "import argparse\n",
    "import yaml\n",
    "from omegaconf import DictConfig"
   ]
  },
  {
   "cell_type": "code",
   "execution_count": 24,
   "id": "9e660158-4da2-435d-bd9e-869530447604",
   "metadata": {},
   "outputs": [],
   "source": [
    "logging.basicConfig(stream=sys.stdout, level=logging.INFO)"
   ]
  },
  {
   "cell_type": "code",
   "execution_count": 25,
   "id": "a46c8b83-2965-45d2-8b8a-67fb365d94a2",
   "metadata": {},
   "outputs": [],
   "source": [
    "with open(\"config.yaml\", \"r\") as file:\n",
    "    config = yaml.safe_load(file)"
   ]
  },
  {
   "cell_type": "code",
   "execution_count": 12,
   "id": "b0b0fe60-9efc-48fb-8805-8a3488c19556",
   "metadata": {},
   "outputs": [],
   "source": [
    "def get_model_from_config(model_config: dict):\n",
    "    \"\"\" Given a model configuration dict, return the corresponding model instance. \"\"\"\n",
    "    \n",
    "    if 'XGBClassifier' in model_config:\n",
    "        model_params = model_config['XGBClassifier']\n",
    "        model = xgb.XGBClassifier(**model_params)  # Use parameters from config\n",
    "        return model\n",
    "    \n",
    "    elif 'LogisticRegression' in model_config:\n",
    "        model_params = model_config['LogisticRegression']\n",
    "        model = LogisticRegression(**model_params)  # Use parameters from config\n",
    "        return model\n",
    "    \n",
    "    else:\n",
    "        raise ValueError(\"Unsupported model configuration.\")"
   ]
  },
  {
   "cell_type": "code",
   "execution_count": 26,
   "id": "eac2a6be-80e6-4f88-8a03-9ca2efcc3956",
   "metadata": {},
   "outputs": [],
   "source": [
    "def go(config):\n",
    "    logging.info(\"Import data from repo\")\n",
    "    df = import_data(config[\"main\"][\"data\"][\"pth\"])\n",
    "    logging.info(\"Process data to get features and target variable\")\n",
    "    X, y = process_data(df, config[\"main\"][\"data\"][\"categorical_features\"], config[\"main\"][\"data\"][\"label\"])\n",
    "    logging.info(\"Split the data into training and validation sets\")\n",
    "    X_train, X_val, y_train, y_val = train_test_split(X, y, test_size=config[\"main\"][\"train_test_split\"][\"test_size\"], random_state=config[\"main\"][\"train_test_split\"][\"random_state\"])\n",
    "    logging.info(\"Train the model with the specified parameters\")\n",
    "    best_model, best_params = train(get_model_from_config(config[\"main\"][\"modeling\"][\"MODEL\"]), \n",
    "                                    X_train,\n",
    "                                    y_train,\n",
    "                                    config[\"main\"][\"modeling\"][\"param_grid\"],\n",
    "                                    config[\"main\"][\"modeling\"][\"FEATURES\"])\n",
    "    \n",
    "    logging.info(\"Run inference on the validation set\")\n",
    "    Y_test_pred, Y_test_pred_prob = inference(best_model, X_val)\n",
    "    logging.info(\"Evaluate the model performance\")\n",
    "    run_evaluate_model(y_val, Y_test_pred, Y_test_pred_prob, best_model, X_val, output_dir=config[\"main\"][\"modeling\"][\"output_dir\"])\n"
   ]
  },
  {
   "cell_type": "code",
   "execution_count": null,
   "id": "0dc6fee5-48f4-4f9a-9f29-d7ddfd369fa8",
   "metadata": {},
   "outputs": [
    {
     "name": "stderr",
     "output_type": "stream",
     "text": [
      "2024-12-27 22:07:32,520 Import data from repo\n",
      "2024-12-27 22:07:32,522 Downloading data set\n",
      "2024-12-27 22:07:32,589 Process data to get features and target variable\n",
      "2024-12-27 22:07:32,590 Handle categorical features\n",
      "2024-12-27 22:07:32,646 Encode response variable\n",
      "2024-12-27 22:07:32,657 Split the data into training and validation sets\n",
      "2024-12-27 22:07:32,663 Train the model with the specified parameters\n",
      "2024-12-27 22:07:32,664 Creating model pipeline\n",
      "2024-12-27 22:07:32,664 Training XGBClassifier model\n"
     ]
    },
    {
     "name": "stdout",
     "output_type": "stream",
     "text": [
      "Fitting 5 folds for each of 108 candidates, totalling 540 fits\n"
     ]
    }
   ],
   "source": [
    "go(config)"
   ]
  },
  {
   "cell_type": "code",
   "execution_count": null,
   "id": "b35a395d-5464-4545-ba4b-30c5aaebc962",
   "metadata": {},
   "outputs": [],
   "source": [
    "if __name__ == \"__main__\":\n",
    "    go()"
   ]
  }
 ],
 "metadata": {
  "kernelspec": {
   "display_name": "Python 3 (ipykernel)",
   "language": "python",
   "name": "python3"
  },
  "language_info": {
   "codemirror_mode": {
    "name": "ipython",
    "version": 3
   },
   "file_extension": ".py",
   "mimetype": "text/x-python",
   "name": "python",
   "nbconvert_exporter": "python",
   "pygments_lexer": "ipython3",
   "version": "3.10.16"
  }
 },
 "nbformat": 4,
 "nbformat_minor": 5
}
