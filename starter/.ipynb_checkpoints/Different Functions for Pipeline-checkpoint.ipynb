{
 "cells": [
  {
   "cell_type": "code",
   "execution_count": 1,
   "id": "984cc0f1-e70b-4e44-b174-63a2d08b90b0",
   "metadata": {},
   "outputs": [],
   "source": [
    "### install packages\n",
    "import pandas as pd \n",
    "import numpy as np\n",
    "from xgboost import XGBClassifier\n",
    "from sklearn.model_selection import train_test_split, GridSearchCV\n",
    "from sklearn.linear_model import LogisticRegression\n",
    "from sklearn.compose import ColumnTransformer\n",
    "from sklearn.impute import SimpleImputer\n",
    "from sklearn.preprocessing import OrdinalEncoder, OneHotEncoder, StandardScaler\n",
    "from sklearn.pipeline import Pipeline, make_pipeline\n",
    "\n",
    "\n",
    "\n",
    "\n",
    "from sklearn.metrics import roc_curve,accuracy_score,f1_score,fbeta_score,recall_score,precision_score, auc\n",
    "import matplotlib.pyplot as plt\n",
    "%matplotlib inline"
   ]
  },
  {
   "cell_type": "code",
   "execution_count": 2,
   "id": "5e105721-18e0-4a61-8c39-af9b94a72fea",
   "metadata": {},
   "outputs": [],
   "source": [
    "def import_data(pth):\n",
    "    \"\"\"\n",
    "    Imports data from the provided path and cleans the column names and categorical features.\n",
    "    \n",
    "    Inputs\n",
    "    ------\n",
    "    pth : str\n",
    "        Path to the dataset file (CSV or other format supported by pandas).\n",
    "    \n",
    "    Returns\n",
    "    -------\n",
    "    X : pd.DataFrame\n",
    "        Cleaned data with stripped column names and categorical features.\n",
    "    \"\"\"\n",
    "    \n",
    "    # Load the dataset from the given path\n",
    "    X = pd.read_csv(pth)\n",
    "    \n",
    "    # Strip column names\n",
    "    X.columns = X.columns.str.strip()\n",
    "    \n",
    "    return X"
   ]
  },
  {
   "cell_type": "code",
   "execution_count": 3,
   "id": "6b48e06f-6d6e-42bf-a4d9-570c6faa46ec",
   "metadata": {},
   "outputs": [],
   "source": [
    "X=import_data(pth=\"/Users/ruilu/nd0821-c3-starter-code/starter/data/census.csv\")"
   ]
  },
  {
   "cell_type": "code",
   "execution_count": 4,
   "id": "1923f16b-4b89-42c0-9e68-bed1125ae768",
   "metadata": {},
   "outputs": [],
   "source": [
    "def process_data(X, categorical_features=[], label=None):\n",
    "    \"\"\" Process the data used in the machine learning pipeline.\n",
    "\n",
    "    Processes the data by stripping spaces from categorical features and optionally\n",
    "    separates out the label if provided. This function can be used for both training and \n",
    "    inference/validation.\n",
    "\n",
    "    Parameters\n",
    "    ----------\n",
    "    X : pd.DataFrame\n",
    "        DataFrame containing the features and label.\n",
    "    categorical_features : list of str, optional, default=[]\n",
    "        List containing the names of the categorical features. \n",
    "        Will strip spaces and ensure they are in string format.\n",
    "    label : str or None, optional, default=None\n",
    "        Name of the label column in X. If None, the function will return an empty DataFrame for y.\n",
    "\n",
    "    Returns\n",
    "    -------\n",
    "    X_processed : pd.DataFrame\n",
    "        Processed feature data (categorical features stripped of spaces).\n",
    "    y : pd.Series or None\n",
    "        Processed label data as a pandas Series, or None if label is None.\n",
    "    \"\"\"\n",
    "    \n",
    "    # Handle categorical features: strip spaces and convert to strings\n",
    "    if categorical_features:\n",
    "        for col in categorical_features:\n",
    "            if col in X.columns:\n",
    "                X[col] = X[col].astype(str).str.strip()\n",
    "\n",
    "    # Separate label column from feature columns if label is provided\n",
    "    if label is not None:\n",
    "        if label not in X.columns:\n",
    "            raise ValueError(f\"Label column '{label}' not found in X.\")\n",
    "        y = X[label].map({'<=50K': 0, '>50K': 1})  # Return as pandas Series\n",
    "        X = X.drop([label], axis=1)\n",
    "    else:\n",
    "        y = None  # Return None if no label is provided\n",
    "\n",
    "    # Return processed features as a DataFrame\n",
    "    X_processed = X.copy()  # Ensure we return a DataFrame\n",
    "    return X_processed, y\n"
   ]
  },
  {
   "cell_type": "code",
   "execution_count": 5,
   "id": "3929fbff-6d25-4c78-85b2-0e8bbccc12bd",
   "metadata": {},
   "outputs": [],
   "source": [
    "X,y=process_data(X, categorical_features=['marital-status',\n",
    "        'occupation',\n",
    "        'relationship',\n",
    "        'education',\n",
    "        'race',\n",
    "        'sex',\n",
    "        'workclass',\n",
    "        'native-country',\n",
    "        'salary'], label='salary')"
   ]
  },
  {
   "cell_type": "code",
   "execution_count": 6,
   "id": "e5baa65a-552b-4330-b12d-a96133c5e0b9",
   "metadata": {},
   "outputs": [],
   "source": [
    "def get_model_pipeline(model, feats):\n",
    "    \"\"\"\n",
    "    Creates model pipeline with feature preprocessing steps for\n",
    "    encoding, scaling, and handling missing data.\n",
    "\n",
    "    Args:\n",
    "        model (sklearn model): sklearn model, either RandomForestClassifier or LogisticRegression.\n",
    "        feats (dict): Dictionary of feature sets for each step of the pipeline \n",
    "                      (should contain keys 'drop', 'categorical', 'numeric').\n",
    "\n",
    "    Returns:\n",
    "        model_pipe (sklearn.pipeline.Pipeline): A pipeline containing preprocessing and the model.\n",
    "    \n",
    "    Raises:\n",
    "        ValueError: If the model is neither XGBClassifier nor LogisticRegression.\n",
    "        KeyError: If the required keys are not present in the feats dictionary.\n",
    "    \"\"\"\n",
    "    # Check if the provided model is of a valid type\n",
    "    if not isinstance(model, (LogisticRegression, XGBClassifier)):\n",
    "        raise ValueError(\"Model should be either XGBClassifier or LogisticRegression.\")\n",
    "    \n",
    "    # Check if required keys are in the feats dictionary\n",
    "    required_keys = ['categorical', 'numeric']\n",
    "    for key in required_keys:\n",
    "        if key not in feats:\n",
    "            raise KeyError(f\"Missing required key: '{key}' in feats dictionary.\")\n",
    "\n",
    "    # Preprocessing for categorical features\n",
    "    if isinstance(model, XGBClassifier):\n",
    "        encoder = OrdinalEncoder(handle_unknown='use_encoded_value', unknown_value=1000)\n",
    "    elif isinstance(model, LogisticRegression):\n",
    "        encoder = OneHotEncoder(handle_unknown='ignore')\n",
    "\n",
    "    # Categorical feature preprocessor (imputation + encoding)\n",
    "    categ_preproc = make_pipeline(\n",
    "        SimpleImputer(strategy='most_frequent'),  # Impute missing values with the most frequent value\n",
    "        encoder\n",
    "    )\n",
    "\n",
    "    # Numerical feature preprocessor (scaling)\n",
    "    numeric_preproc = StandardScaler()\n",
    "\n",
    "    # Feature preprocessor (column transformer)\n",
    "    feats_preproc = ColumnTransformer([\n",
    "        ('categorical', categ_preproc, feats['categorical']),  # Process categorical features\n",
    "        ('numerical', numeric_preproc, feats['numeric'])  # Scale numerical features\n",
    "    ], remainder='passthrough')  # Pass other features without modification\n",
    "\n",
    "    # Model pipeline (feature preprocessing + model)\n",
    "    model_pipe = Pipeline([\n",
    "        ('features_preprocessor', feats_preproc),\n",
    "        ('model', model)\n",
    "    ])\n",
    "\n",
    "    return model_pipe\n",
    "\n"
   ]
  },
  {
   "cell_type": "code",
   "execution_count": 7,
   "id": "81bf0ab8-4e8d-4bd5-ada6-45495fc11799",
   "metadata": {},
   "outputs": [],
   "source": [
    "FEATURES = {\n",
    "    'categorical': [\n",
    "        'marital-status',\n",
    "        'occupation',\n",
    "        'relationship',\n",
    "        'race',\n",
    "        'sex',\n",
    "        'workclass',\n",
    "        'native-country',\n",
    "        'education'\n",
    "    ],\n",
    "    'numeric': [\n",
    "        'age',\n",
    "        'fnlgt',\n",
    "        'capital-gain',\n",
    "        'capital-loss',\n",
    "        'hours-per-week'\n",
    "    ]\n",
    "}\n",
    "\n",
    "MODEL = XGBClassifier(objective='binary:logistic')"
   ]
  },
  {
   "cell_type": "code",
   "execution_count": 8,
   "id": "f18b028a-a4a8-4dca-9f5b-baaa1cf26ec1",
   "metadata": {},
   "outputs": [],
   "source": [
    "pipeline=get_model_pipeline(MODEL, FEATURES)"
   ]
  },
  {
   "cell_type": "code",
   "execution_count": 9,
   "id": "62f03fd8-46e5-4878-8da4-264a90bb91a4",
   "metadata": {},
   "outputs": [],
   "source": [
    "X_train, X_val, y_train, y_val = train_test_split(X, y, test_size=0.2, random_state=1234)"
   ]
  },
  {
   "cell_type": "code",
   "execution_count": 10,
   "id": "fd10100c-84d6-403b-bd47-be2c12a0fbe3",
   "metadata": {},
   "outputs": [],
   "source": [
    "def train_model(model, X_train, y_train, param_grid, scoring='accuracy', cv=3):\n",
    "    # Perform GridSearchCV to find the best hyperparameters\n",
    "    grid_search = GridSearchCV(estimator=model, param_grid=param_grid, cv=cv, scoring=scoring, verbose=1)\n",
    "    X_train=pd.DataFrame(X_train)\n",
    "    y_train=pd.DataFrame(y_train)\n",
    "    # Fit the model with grid search on training data\n",
    "    _ =grid_search.fit(X_train, y_train)\n",
    "    \n",
    "    # Get the best model from grid search\n",
    "    best_model = grid_search.best_estimator_\n",
    "\n",
    "    # Optionally return best hyperparameters as well\n",
    "    best_params = grid_search.best_params_\n",
    "\n",
    "    return best_model, best_params"
   ]
  },
  {
   "cell_type": "code",
   "execution_count": 11,
   "id": "41714376-03dd-41c8-bda7-125136c3f1da",
   "metadata": {},
   "outputs": [
    {
     "name": "stdout",
     "output_type": "stream",
     "text": [
      "Fitting 3 folds for each of 108 candidates, totalling 324 fits\n"
     ]
    }
   ],
   "source": [
    "# Define your pipeline\n",
    "pipeline = get_model_pipeline(XGBClassifier(random_state=42), FEATURES)\n",
    "\n",
    "# Define your parameter grid (using 'model__' as the prefix)\n",
    "param_grid = {\n",
    "    'model__n_estimators': [50, 100, 200],\n",
    "    'model__max_depth': [3, 5, 7],\n",
    "    'model__learning_rate': [0.01, 0.1, 0.2],\n",
    "    'model__subsample': [0.8, 1.0],\n",
    "    'model__colsample_bytree': [0.8, 1.0]\n",
    "}\n",
    "\n",
    "# Train the model with grid search\n",
    "best_model, best_params = train_model(pipeline, X_train, y_train, param_grid, cv=3)\n"
   ]
  },
  {
   "cell_type": "code",
   "execution_count": 12,
   "id": "750160bb-7885-4865-ad40-b58d38910ad2",
   "metadata": {},
   "outputs": [],
   "source": [
    "def inference(model, X):\n",
    "    \"\"\" Run model inferences and return the predictions.\n",
    "\n",
    "    Inputs\n",
    "    ------\n",
    "    model : ???\n",
    "        Trained machine learning model.\n",
    "    X : np.array\n",
    "        Data used for prediction.\n",
    "    Returns\n",
    "    -------\n",
    "    preds : np.array\n",
    "        Predictions from the model.\n",
    "    \"\"\"\n",
    "\n",
    "    pred = model.predict(X)  # Predicted labels\n",
    "    pred_prob= model.predict_proba(X)\n",
    "    return pred, pred_prob "
   ]
  },
  {
   "cell_type": "code",
   "execution_count": 13,
   "id": "89f7e04f-c56d-46b1-818f-213a6abe4842",
   "metadata": {},
   "outputs": [],
   "source": [
    "Y_test_pred,Y_test_pred_prob =inference(best_model, X_val)\n",
    "Y_train_pred,Y_train_pred_prob=inference(best_model, X_train)"
   ]
  },
  {
   "cell_type": "code",
   "execution_count": 14,
   "id": "ca75dbe0-f75f-4bbc-8b10-1b1fdc0d3dab",
   "metadata": {},
   "outputs": [],
   "source": [
    "def compute_model_metrics(y, preds,pred_prob):\n",
    "    \"\"\"\n",
    "    Validates the trained machine learning model using precision, recall, F1, and ROC AUC.\n",
    "\n",
    "    Inputs\n",
    "    ------\n",
    "    y : np.array\n",
    "        Known labels, binarized.\n",
    "    preds : np.array\n",
    "        Predicted labels or predicted probabilities (binarized).\n",
    "\n",
    "    Returns\n",
    "    -------\n",
    "    precision : float\n",
    "        The precision score of the model.\n",
    "    recall : float\n",
    "        The recall score of the model.\n",
    "    fbeta : float\n",
    "        The F-beta score (F1 score when beta=1).\n",
    "    fpr : np.array\n",
    "        False positive rate values for ROC curve.\n",
    "    tpr : np.array\n",
    "        True positive rate values for ROC curve.\n",
    "    roc_auc : float\n",
    "        Area under the ROC curve.\n",
    "    \"\"\"\n",
    "    pred_prob = pred_prob[:, 1]\n",
    "    # Calculate precision, recall, and F-beta score using class labels\n",
    "    precision = precision_score(y, preds, zero_division=1)\n",
    "    recall = recall_score(y, preds, zero_division=1)\n",
    "    fbeta = fbeta_score(y, preds, beta=1, zero_division=1)\n",
    "    \n",
    "    # Calculate ROC metrics using predicted probabilities\n",
    "    fpr, tpr, thresholds = roc_curve(y, pred_prob)\n",
    "    roc_auc = auc(fpr, tpr)\n",
    "    \n",
    "    # Optionally print the metrics for display\n",
    "    print(f\"Precision: {precision:.4f}\")\n",
    "    print(f\"Recall: {recall:.4f}\")\n",
    "    print(f\"F-beta (beta=1) score: {fbeta:.4f}\")\n",
    "    print(f\"ROC AUC: {roc_auc:.4f}\")\n",
    "    \n",
    "    # Return the metrics as a tuple\n",
    "    return precision, recall, fbeta, fpr, tpr, roc_auc\n",
    "\n"
   ]
  },
  {
   "cell_type": "code",
   "execution_count": 15,
   "id": "45d664f4-60d1-47cd-9a93-b1b3d7e1f665",
   "metadata": {},
   "outputs": [
    {
     "name": "stdout",
     "output_type": "stream",
     "text": [
      "Precision: 0.7664\n",
      "Recall: 0.6420\n",
      "F-beta (beta=1) score: 0.6987\n",
      "ROC AUC: 0.9230\n"
     ]
    }
   ],
   "source": [
    "precision, recall, fbeta, fpr, tpr, roc_auc=compute_model_metrics(y_val, Y_test_pred,Y_test_pred_prob)"
   ]
  },
  {
   "cell_type": "code",
   "execution_count": 16,
   "id": "8b2a9099-1056-4651-843e-2ba16f3f5b29",
   "metadata": {},
   "outputs": [],
   "source": [
    "def plot_roc_curve(fpr, tpr, roc_auc):\n",
    "    \"\"\"\n",
    "    Plots the ROC curve given False Positive Rate (FPR), True Positive Rate (TPR), and AUC score.\n",
    "\n",
    "    Parameters:\n",
    "    - fpr: array-like, False Positive Rate from ROC curve\n",
    "    - tpr: array-like, True Positive Rate from ROC curve\n",
    "    - roc_auc: float, Area Under the Curve (AUC) score\n",
    "    \"\"\"\n",
    "    plt.figure(figsize=(8, 6))\n",
    "    plt.plot(fpr, tpr, color='blue', label=f'ROC curve (AUC = {roc_auc:.2f})')\n",
    "    plt.plot([0, 1], [0, 1], color='gray', linestyle='--')  # Diagonal line (random classifier)\n",
    "    plt.xlabel('False Positive Rate')\n",
    "    plt.ylabel('True Positive Rate')\n",
    "    plt.title('Receiver Operating Characteristic (ROC) Curve')\n",
    "    plt.legend(loc=\"lower right\")\n",
    "    plt.grid(True)\n",
    "    plt.show()\n"
   ]
  },
  {
   "cell_type": "code",
   "execution_count": 17,
   "id": "914f6e9b-8bb8-4dd2-b33f-442341b860d0",
   "metadata": {},
   "outputs": [
    {
     "data": {
      "image/png": "[encoded data removed]",
      "text/plain": [
       "<Figure size 800x600 with 1 Axes>"
      ]
     },
     "metadata": {},
     "output_type": "display_data"
    }
   ],
   "source": [
    "plot_roc_curve(fpr, tpr, roc_auc)"
   ]
  },
  {
   "cell_type": "code",
   "execution_count": 18,
   "id": "19f1043c-ab69-4da9-ace9-de30ae359ef7",
   "metadata": {},
   "outputs": [],
   "source": [
    "def plot_feature_importance(model, X, max_features=10):\n",
    "    \"\"\"\n",
    "    Plots feature importance for the model, showing the top N features.\n",
    "\n",
    "    Parameters:\n",
    "    - model: trained model with a `feature_importances_` attribute (e.g., RandomForest, XGBoost)\n",
    "    - X: DataFrame or array, features used for training the model (to extract feature names)\n",
    "    - max_features: int, the number of top features to display (default is 10)\n",
    "    \"\"\"\n",
    "    \n",
    "    # Extract feature importances (if available)\n",
    "    if hasattr(model, 'feature_importances_'):\n",
    "        importances = model.feature_importances_\n",
    "        \n",
    "        # Get feature names from the DataFrame if it has columns, or generate default names if ndarray\n",
    "        feature_names = X.columns if isinstance(X, pd.DataFrame) else [f'Feature {i}' for i in range(X.shape[1])]\n",
    "        \n",
    "        # Create DataFrame to sort and plot feature importance\n",
    "        importance_df = pd.DataFrame({\n",
    "            'Feature': feature_names,\n",
    "            'Importance': importances\n",
    "        }).sort_values(by='Importance', ascending=False).head(max_features)\n",
    "        \n",
    "        # Plot top feature importances\n",
    "        plt.figure(figsize=(8, 6))\n",
    "        plt.barh(importance_df['Feature'], importance_df['Importance'], color='purple')\n",
    "        plt.xlabel('Importance')\n",
    "        plt.title(f'Top {max_features} Feature Importances')\n",
    "        plt.gca().invert_yaxis()  # Display most important feature at the top\n",
    "        plt.show()\n",
    "    else:\n",
    "        print(\"No feature importance available for this model.\")"
   ]
  },
  {
   "cell_type": "code",
   "execution_count": 19,
   "id": "d2ef8b13-0227-4856-b74f-f906590aa845",
   "metadata": {},
   "outputs": [
    {
     "name": "stdout",
     "output_type": "stream",
     "text": [
      "No feature importance available for this model.\n"
     ]
    }
   ],
   "source": [
    "plot_feature_importance(best_model, X, max_features=10)"
   ]
  },
  {
   "cell_type": "code",
   "execution_count": null,
   "id": "5cc6cb27-886b-4eef-97fd-7aa29234c055",
   "metadata": {},
   "outputs": [],
   "source": []
  }
 ],
 "metadata": {
  "kernelspec": {
   "display_name": "Python 3 (ipykernel)",
   "language": "python",
   "name": "python3"
  },
  "language_info": {
   "codemirror_mode": {
    "name": "ipython",
    "version": 3
   },
   "file_extension": ".py",
   "mimetype": "text/x-python",
   "name": "python",
   "nbconvert_exporter": "python",
   "pygments_lexer": "ipython3",
   "version": "3.10.16"
  }
 },
 "nbformat": 4,
 "nbformat_minor": 5
}
