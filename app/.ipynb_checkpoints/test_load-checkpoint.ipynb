{
 "cells": [
  {
   "cell_type": "code",
   "execution_count": 62,
   "id": "529ff314-8693-44e1-89ba-445ec07e52b7",
   "metadata": {},
   "outputs": [],
   "source": [
    "import os\n",
    "import sys\n",
    "sys.path.append('/Users/ruilu/nd0821-c3-starter-code/starter/')\n",
    "import yaml\n",
    "import joblib\n",
    "import numpy as np\n",
    "from fastapi import FastAPI, Body, HTTPException\n",
    "from enum import Enum\n",
    "from typing import Optional\n",
    "from pydantic import BaseModel\n",
    "import pandas as pd\n",
    "from pipeline.data import process_data\n",
    "from pipeline.model import inference\n",
    "\n",
    "from fastapi import FastAPI, Body, HTTPException\n",
    "from pydantic import BaseModel\n",
    "from typing import List\n",
    "from enum import Enum"
   ]
  },
  {
   "cell_type": "code",
   "execution_count": 63,
   "id": "815b52e9-d77b-4226-a9aa-3bfd4339f300",
   "metadata": {},
   "outputs": [],
   "source": [
    "### upload model \n",
    "MODEL_PATH = os.path.join(\n",
    "    \"/Users/ruilu/nd0821-c3-starter-code/starter/model\", \"best_model.pkl\"\n",
    ")\n",
    "model = joblib.load(MODEL_PATH)"
   ]
  },
  {
   "cell_type": "code",
   "execution_count": 64,
   "id": "77a9305a-009c-4477-9957-79ce53eccb35",
   "metadata": {},
   "outputs": [],
   "source": [
    "### Upload example data \n",
    "with open(\"/Users/ruilu/nd0821-c3-starter-code/starter/app/examples.yaml\", \"r\") as file:\n",
    "    example_data = yaml.safe_load(file)"
   ]
  },
  {
   "cell_type": "code",
   "execution_count": 65,
   "id": "f4d2134e-9071-4e15-9b74-ea7dd3d671c3",
   "metadata": {},
   "outputs": [],
   "source": [
    "# Define the Enum for valid example types\n",
    "class ExampleType(str, Enum):\n",
    "    class_less_than_50k = \"Class <=50k (Label 0)\"\n",
    "    class_greater_than_50k = \"Class >50k (Label 1)\"\n",
    "    missing_sample = \"Missing sample\"\n",
    "    error_sample = \"Error sample\""
   ]
  },
  {
   "cell_type": "code",
   "execution_count": 68,
   "id": "69396b05-29b4-4cf7-b3b8-e6660cc45c3e",
   "metadata": {},
   "outputs": [],
   "source": [
    "def example_data_extract(example_data):\n",
    "    # Define the example types you want to iterate over\n",
    "    example_type = [\n",
    "        \"Class <=50k (Label 0)\",\n",
    "        \"Class >50k (Label 1)\",\n",
    "        \"Missing sample\",\n",
    "        \"Error sample\"\n",
    "    ]\n",
    "\n",
    "    # Initialize an empty list to collect DataFrames\n",
    "    dataframes = []\n",
    "\n",
    "    # Iterate over each example_type\n",
    "    for item in example_type:\n",
    "        try:\n",
    "            # Extract the data using the example_type\n",
    "            data = example_data['post_examples'].get(item, {}).get('value', None)\n",
    "\n",
    "            # Check if the data is found\n",
    "            if data is None:\n",
    "                print(f\"Warning: No data found for {item}. Skipping.\")\n",
    "                continue\n",
    "            \n",
    "            # Convert the data into a DataFrame\n",
    "            df = pd.DataFrame([data])\n",
    "            \n",
    "            # Add a new column 'salary' with value 'NA'\n",
    "            df['salary'] = \"NA\"\n",
    "            \n",
    "            # Optionally add the 'example_type' to keep track of the source\n",
    "            df['example_type'] = item\n",
    "            \n",
    "            # Append the current DataFrame to the list\n",
    "            dataframes.append(df)\n",
    "        \n",
    "        except Exception as e:\n",
    "            print(f\"Error processing {item}: {e}\")\n",
    "            continue\n",
    "\n",
    "    # If no valid dataframes were collected, return an empty DataFrame\n",
    "    if not dataframes:\n",
    "        print(\"No valid data found.\")\n",
    "        return pd.DataFrame()\n",
    "\n",
    "    # Concatenate all DataFrames in the list to create a single DataFrame\n",
    "    final_df = pd.concat(dataframes, ignore_index=True)\n",
    "\n",
    "    return final_df"
   ]
  },
  {
   "cell_type": "code",
   "execution_count": 69,
   "id": "cbe86149-69c0-4846-9275-2892e492672f",
   "metadata": {},
   "outputs": [],
   "source": [
    "df=example_data_extract(example_data)"
   ]
  },
  {
   "cell_type": "code",
   "execution_count": 67,
   "id": "0a237ee1-6a75-41d2-86ea-77012dd6e260",
   "metadata": {},
   "outputs": [],
   "source": [
    "def predict(\n",
    "    categorical_features: List[str] = ['marital-status', 'occupation', 'relationship', 'education', 'race', 'sex', 'workclass', 'native-country', 'salary', 'country'],\n",
    "    label: str = 'salary',\n",
    "    example: str = \"Class <=50k (Label 0)\",  # Default example type\n",
    "    df: pd.DataFrame = example_data_extract(example_data)  # The df is extracted using the example_data_extract function\n",
    "):\n",
    "    # Process the data (this will return X and y)\n",
    "    X, y = process_data(df, categorical_features, label)\n",
    "    \n",
    "    # Filter the data to match the selected example type (e.g., \"Class <=50k (Label 0)\")\n",
    "    X_example = X[X[\"example_type\"] == example].drop(\"example_type\", axis=1)\n",
    "\n",
    "    # Perform inference (model inference using the X_example data)\n",
    "    pred_label, pred_prob = inference(model, X_example)\n",
    "    \n",
    "    # Convert predicted label to integer and probability to float\n",
    "    pred_label = int(pred_label)\n",
    "    pred_probs = float(pred_prob[:, 1])\n",
    "    \n",
    "    # Determine salary class based on the predicted label\n",
    "    pred_salary = \">50k\" if pred_label == 1 else \"<=50k\"\n",
    "\n",
    "    # Return the prediction results\n",
    "    return {\n",
    "        'label': pred_label,\n",
    "        'prob': pred_probs,\n",
    "        'salary': pred_salary\n",
    "    }\n"
   ]
  },
  {
   "cell_type": "code",
   "execution_count": 70,
   "id": "57d737a4-37e5-41b3-b761-0d4d397ba971",
   "metadata": {},
   "outputs": [
    {
     "name": "stderr",
     "output_type": "stream",
     "text": [
      "2024-12-31 14:11:15,605 Handle categorical features\n",
      "2024-12-31 14:11:15,612 Encode response variable\n",
      "/var/folders/lw/t_p8zf6s1x76k2_3lv9ndhw40000gn/T/ipykernel_15613/4019980437.py:17: DeprecationWarning: Conversion of an array with ndim > 0 to a scalar is deprecated, and will error in future. Ensure you extract a single element from your array before performing this operation. (Deprecated NumPy 1.25.)\n",
      "  pred_label = int(pred_label)\n",
      "/var/folders/lw/t_p8zf6s1x76k2_3lv9ndhw40000gn/T/ipykernel_15613/4019980437.py:18: DeprecationWarning: Conversion of an array with ndim > 0 to a scalar is deprecated, and will error in future. Ensure you extract a single element from your array before performing this operation. (Deprecated NumPy 1.25.)\n",
      "  pred_probs = float(pred_prob[:, 1])\n"
     ]
    },
    {
     "data": {
      "text/plain": [
       "{'label': 0, 'prob': 0.18027175962924957, 'salary': '<=50k'}"
      ]
     },
     "execution_count": 70,
     "metadata": {},
     "output_type": "execute_result"
    }
   ],
   "source": [
    " predict()"
   ]
  },
  {
   "cell_type": "code",
   "execution_count": null,
   "id": "2e54ee6d-0cf7-4a7f-a43c-a31b5be02dca",
   "metadata": {},
   "outputs": [],
   "source": []
  }
 ],
 "metadata": {
  "kernelspec": {
   "display_name": "Python 3 (ipykernel)",
   "language": "python",
   "name": "python3"
  },
  "language_info": {
   "codemirror_mode": {
    "name": "ipython",
    "version": 3
   },
   "file_extension": ".py",
   "mimetype": "text/x-python",
   "name": "python",
   "nbconvert_exporter": "python",
   "pygments_lexer": "ipython3",
   "version": "3.10.16"
  }
 },
 "nbformat": 4,
 "nbformat_minor": 5
}
