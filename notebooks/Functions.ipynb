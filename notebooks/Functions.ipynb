{
 "cells": [
  {
   "cell_type": "code",
   "execution_count": 16,
   "id": "984cc0f1-e70b-4e44-b174-63a2d08b90b0",
   "metadata": {},
   "outputs": [],
   "source": [
    "### install packages\n",
    "import pandas as pd\n",
    "import numpy as np\n",
    "from xgboost import XGBClassifier\n",
    "from sklearn.model_selection import train_test_split, GridSearchCV\n",
    "from sklearn.preprocessing import LabelBinarizer, OneHotEncoder\n",
    "from sklearn.metrics import (\n",
    "    roc_curve,\n",
    "    accuracy_score,\n",
    "    f1_score,\n",
    "    fbeta_score,\n",
    "    recall_score,\n",
    "    precision_score,\n",
    "    auc,\n",
    ")\n",
    "import matplotlib.pyplot as plt\n",
    "\n",
    "%matplotlib inline"
   ]
  },
  {
   "cell_type": "code",
   "execution_count": 17,
   "id": "5e105721-18e0-4a61-8c39-af9b94a72fea",
   "metadata": {},
   "outputs": [],
   "source": [
    "def import_data(pth):\n",
    "    \"\"\"\n",
    "    Imports data from the provided path and cleans the column names and categorical features.\n",
    "\n",
    "    Inputs\n",
    "    ------\n",
    "    pth : str\n",
    "        Path to the dataset file (CSV or other format supported by pandas).\n",
    "\n",
    "    Returns\n",
    "    -------\n",
    "    X : pd.DataFrame\n",
    "        Cleaned data with stripped column names and categorical features.\n",
    "    \"\"\"\n",
    "\n",
    "    # Load the dataset from the given path\n",
    "    X = pd.read_csv(pth)\n",
    "\n",
    "    # Strip column names\n",
    "    X.columns = X.columns.str.strip()\n",
    "\n",
    "    return X"
   ]
  },
  {
   "cell_type": "code",
   "execution_count": 18,
   "id": "6b48e06f-6d6e-42bf-a4d9-570c6faa46ec",
   "metadata": {},
   "outputs": [],
   "source": [
    "X = import_data(pth=\"/Users/ruilu/nd0821-c3-starter-code/starter/data/census.csv\")"
   ]
  },
  {
   "cell_type": "code",
   "execution_count": 19,
   "id": "1923f16b-4b89-42c0-9e68-bed1125ae768",
   "metadata": {},
   "outputs": [],
   "source": [
    "def process_data(\n",
    "    X,\n",
    "    categorical_features=[],\n",
    "    label=None,\n",
    "    training=True,\n",
    "    encoder=None,\n",
    "    lb=None,\n",
    "):\n",
    "    \"\"\"Process the data used in the machine learning pipeline.\n",
    "\n",
    "    Processes the data using one hot encoding for the categorical features and a\n",
    "    label binarizer for the labels. This can be used in either training or\n",
    "    inference/validation.\n",
    "\n",
    "    Note: depending on the type of model used, you may want to add in functionality that\n",
    "    scales the continuous data.\n",
    "\n",
    "    Inputs\n",
    "    ------\n",
    "    X : pd.DataFrame\n",
    "        Dataframe containing the features and label. Columns in `categorical_features`\n",
    "    categorical_features: list[str]\n",
    "        List containing the names of the categorical features (default=[])\n",
    "    label : str\n",
    "        Name of the label column in `X`. If None, then an empty array will be returned\n",
    "        for y (default=None)\n",
    "    training : bool\n",
    "        Indicator if training mode or inference/validation mode.\n",
    "    encoder : sklearn.preprocessing._encoders.OneHotEncoder\n",
    "        Trained sklearn OneHotEncoder, only used if training=False.\n",
    "    lb : sklearn.preprocessing._label.LabelBinarizer\n",
    "        Trained sklearn LabelBinarizer, only used if training=False.\n",
    "\n",
    "    Returns\n",
    "    -------\n",
    "    X : np.array\n",
    "        Processed data.\n",
    "    y : np.array\n",
    "        Processed labels if labeled=True, otherwise empty np.array.\n",
    "    encoder : sklearn.preprocessing._encoders.OneHotEncoder\n",
    "        Trained OneHotEncoder if training is True, otherwise returns the encoder passed\n",
    "        in.\n",
    "    lb : sklearn.preprocessing._label.LabelBinarizer\n",
    "        Trained LabelBinarizer if training is True, otherwise returns the binarizer\n",
    "        passed in.\n",
    "    \"\"\"\n",
    "    # Clean categorical columns if provided\n",
    "    if categorical_features is not None:\n",
    "        for col in categorical_features:\n",
    "            if col in X.columns:\n",
    "                X[col] = X[col].astype(str).str.strip()\n",
    "\n",
    "    if label is not None:\n",
    "        y = X[label]\n",
    "        X = X.drop([label], axis=1)\n",
    "    else:\n",
    "        y = np.array([])\n",
    "\n",
    "    X_categorical = X[categorical_features].values\n",
    "    X_continuous = X.drop(*[categorical_features], axis=1)\n",
    "\n",
    "    if training is True:\n",
    "        encoder = OneHotEncoder(sparse=False, handle_unknown=\"ignore\")\n",
    "        lb = LabelBinarizer()\n",
    "        X_categorical = encoder.fit_transform(X_categorical)\n",
    "        y = lb.fit_transform(y.values).ravel()\n",
    "    else:\n",
    "        X_categorical = encoder.transform(X_categorical)\n",
    "        try:\n",
    "            y = lb.transform(y.values).ravel()\n",
    "        # Catch the case where y is None because we're doing inference.\n",
    "        except AttributeError:\n",
    "            pass\n",
    "\n",
    "    X = np.concatenate([X_continuous, X_categorical], axis=1)\n",
    "    return X, y, encoder, lb"
   ]
  },
  {
   "cell_type": "code",
   "execution_count": 20,
   "id": "f18b028a-a4a8-4dca-9f5b-baaa1cf26ec1",
   "metadata": {},
   "outputs": [
    {
     "name": "stderr",
     "output_type": "stream",
     "text": [
      "/Users/ruilu/.local/lib/python3.10/site-packages/sklearn/preprocessing/_encoders.py:975: FutureWarning: `sparse` was renamed to `sparse_output` in version 1.2 and will be removed in 1.4. `sparse_output` is ignored unless you leave `sparse` to its default value.\n",
      "  warnings.warn(\n"
     ]
    }
   ],
   "source": [
    "X, y, encoder, lb = process_data(\n",
    "    X,\n",
    "    [\n",
    "        \"workclass\",\n",
    "        \"education\",\n",
    "        \"marital-status\",\n",
    "        \"occupation\",\n",
    "        \"relationship\",\n",
    "        \"race\",\n",
    "        \"sex\",\n",
    "        \"native-country\",\n",
    "    ],\n",
    "    \"salary\",\n",
    "    encoder=OneHotEncoder,\n",
    ")"
   ]
  },
  {
   "cell_type": "code",
   "execution_count": 21,
   "id": "fd10100c-84d6-403b-bd47-be2c12a0fbe3",
   "metadata": {},
   "outputs": [],
   "source": [
    "def train_model(X, y, param_grid, scoring=\"accuracy\", cv=3):\n",
    "    \"\"\"\n",
    "    Trains a machine learning model using XGBoost and returns the best model found via GridSearchCV.\n",
    "\n",
    "    Inputs\n",
    "    ------\n",
    "    X : np.array or pd.DataFrame\n",
    "        Feature data for training.\n",
    "    y : np.array or pd.Series\n",
    "        Labels for training.\n",
    "    param_grid : dict\n",
    "        Hyperparameter grid for GridSearchCV.\n",
    "    scoring : str, optional, default='accuracy'\n",
    "        The scoring metric to evaluate the model. Default is 'accuracy'.\n",
    "    cv : int, optional, default=3\n",
    "        The number of cross-validation folds to use. Default is 3.\n",
    "\n",
    "    Returns\n",
    "    -------\n",
    "    best_model : XGBClassifier\n",
    "        Trained XGBoost model with the best hyperparameters.\n",
    "    \"\"\"\n",
    "\n",
    "    # Split data into training and validation sets (80% train, 20% validation)\n",
    "    X_train, X_val, y_train, y_val = train_test_split(\n",
    "        X, y, test_size=0.2, random_state=1234\n",
    "    )\n",
    "\n",
    "    # Initialize the XGBClassifier with default parameters\n",
    "    model = XGBClassifier(objective=\"binary:logistic\", eval_metric=\"logloss\")\n",
    "\n",
    "    # Perform GridSearchCV to find the best hyperparameters\n",
    "    grid_search = GridSearchCV(\n",
    "        estimator=model,\n",
    "        param_grid=param_grid,\n",
    "        cv=cv,\n",
    "        scoring=scoring,\n",
    "        verbose=1,\n",
    "    )\n",
    "\n",
    "    # Fit the model with grid search on training data\n",
    "    grid_search.fit(X_train, y_train)\n",
    "\n",
    "    # Get the best model from grid search\n",
    "    best_model = grid_search.best_estimator_\n",
    "\n",
    "    # Optionally, you can evaluate the model on the validation set\n",
    "    # y_val_pred = best_model.predict(X_val)\n",
    "    # val_accuracy = accuracy_score(y_val, y_val_pred)\n",
    "    # print(f\"Validation Accuracy: {val_accuracy:.4f}\")\n",
    "\n",
    "    return best_model, X_train, X_val, y_train, y_val"
   ]
  },
  {
   "cell_type": "code",
   "execution_count": 22,
   "id": "41714376-03dd-41c8-bda7-125136c3f1da",
   "metadata": {},
   "outputs": [
    {
     "name": "stdout",
     "output_type": "stream",
     "text": [
      "Fitting 3 folds for each of 108 candidates, totalling 324 fits\n"
     ]
    }
   ],
   "source": [
    "best_model, X_train, X_val, y_train, y_val = train_model(\n",
    "    X,\n",
    "    y,\n",
    "    param_grid={\n",
    "        \"n_estimators\": [50, 100, 200],\n",
    "        \"max_depth\": [3, 5, 7],\n",
    "        \"learning_rate\": [0.01, 0.1, 0.2],\n",
    "        \"subsample\": [0.8, 1.0],\n",
    "        \"colsample_bytree\": [0.8, 1.0],\n",
    "    },\n",
    "    scoring=\"accuracy\",\n",
    "    cv=3,\n",
    ")"
   ]
  },
  {
   "cell_type": "code",
   "execution_count": 23,
   "id": "750160bb-7885-4865-ad40-b58d38910ad2",
   "metadata": {},
   "outputs": [],
   "source": [
    "def inference(model, X):\n",
    "    \"\"\"Run model inferences and return the predictions.\n",
    "\n",
    "    Inputs\n",
    "    ------\n",
    "    model : ???\n",
    "        Trained machine learning model.\n",
    "    X : np.array\n",
    "        Data used for prediction.\n",
    "    Returns\n",
    "    -------\n",
    "    preds : np.array\n",
    "        Predictions from the model.\n",
    "    \"\"\"\n",
    "\n",
    "    pred = model.predict(X)  # Predicted labels\n",
    "    pred_prob = model.predict_proba(X)\n",
    "    return pred, pred_prob"
   ]
  },
  {
   "cell_type": "code",
   "execution_count": 24,
   "id": "89f7e04f-c56d-46b1-818f-213a6abe4842",
   "metadata": {},
   "outputs": [],
   "source": [
    "Y_test_pred, Y_test_pred_prob = inference(best_model, X_val)\n",
    "Y_train_pred, Y_train_pred_prob = inference(best_model, X_train)"
   ]
  },
  {
   "cell_type": "code",
   "execution_count": 25,
   "id": "ca75dbe0-f75f-4bbc-8b10-1b1fdc0d3dab",
   "metadata": {},
   "outputs": [],
   "source": [
    "def compute_model_metrics(y, preds, pred_prob):\n",
    "    \"\"\"\n",
    "    Validates the trained machine learning model using precision, recall, F1, and ROC AUC.\n",
    "\n",
    "    Inputs\n",
    "    ------\n",
    "    y : np.array\n",
    "        Known labels, binarized.\n",
    "    preds : np.array\n",
    "        Predicted labels or predicted probabilities (binarized).\n",
    "\n",
    "    Returns\n",
    "    -------\n",
    "    precision : float\n",
    "        The precision score of the model.\n",
    "    recall : float\n",
    "        The recall score of the model.\n",
    "    fbeta : float\n",
    "        The F-beta score (F1 score when beta=1).\n",
    "    fpr : np.array\n",
    "        False positive rate values for ROC curve.\n",
    "    tpr : np.array\n",
    "        True positive rate values for ROC curve.\n",
    "    roc_auc : float\n",
    "        Area under the ROC curve.\n",
    "    \"\"\"\n",
    "    pred_prob = pred_prob[:, 1]\n",
    "    # Calculate precision, recall, and F-beta score using class labels\n",
    "    precision = precision_score(y, preds, zero_division=1)\n",
    "    recall = recall_score(y, preds, zero_division=1)\n",
    "    fbeta = fbeta_score(y, preds, beta=1, zero_division=1)\n",
    "\n",
    "    # Calculate ROC metrics using predicted probabilities\n",
    "    fpr, tpr, thresholds = roc_curve(y, pred_prob)\n",
    "    roc_auc = auc(fpr, tpr)\n",
    "\n",
    "    # Optionally print the metrics for display\n",
    "    print(f\"Precision: {precision:.4f}\")\n",
    "    print(f\"Recall: {recall:.4f}\")\n",
    "    print(f\"F-beta (beta=1) score: {fbeta:.4f}\")\n",
    "    print(f\"ROC AUC: {roc_auc:.4f}\")\n",
    "\n",
    "    # Return the metrics as a tuple\n",
    "    return precision, recall, fbeta, fpr, tpr, roc_auc"
   ]
  },
  {
   "cell_type": "code",
   "execution_count": 26,
   "id": "45d664f4-60d1-47cd-9a93-b1b3d7e1f665",
   "metadata": {},
   "outputs": [
    {
     "name": "stdout",
     "output_type": "stream",
     "text": [
      "Precision: 0.7654\n",
      "Recall: 0.6342\n",
      "F-beta (beta=1) score: 0.6936\n",
      "ROC AUC: 0.9211\n"
     ]
    }
   ],
   "source": [
    "precision, recall, fbeta, fpr, tpr, roc_auc = compute_model_metrics(\n",
    "    y_val, Y_test_pred, Y_test_pred_prob\n",
    ")"
   ]
  },
  {
   "cell_type": "code",
   "execution_count": 34,
   "id": "b95f051f-d10c-4f20-bc6a-293e2b2e831f",
   "metadata": {},
   "outputs": [
    {
     "data": {
      "text/plain": [
       "array([[3.10000e+01, 1.78370e+05, 9.00000e+00, ..., 1.00000e+00,\n",
       "        0.00000e+00, 0.00000e+00],\n",
       "       [5.90000e+01, 4.24468e+05, 1.30000e+01, ..., 1.00000e+00,\n",
       "        0.00000e+00, 0.00000e+00],\n",
       "       [2.10000e+01, 2.64100e+04, 9.00000e+00, ..., 1.00000e+00,\n",
       "        0.00000e+00, 0.00000e+00],\n",
       "       ...,\n",
       "       [4.10000e+01, 1.44928e+05, 1.30000e+01, ..., 1.00000e+00,\n",
       "        0.00000e+00, 0.00000e+00],\n",
       "       [4.00000e+01, 1.99303e+05, 9.00000e+00, ..., 1.00000e+00,\n",
       "        0.00000e+00, 0.00000e+00],\n",
       "       [3.80000e+01, 3.83120e+04, 1.30000e+01, ..., 1.00000e+00,\n",
       "        0.00000e+00, 0.00000e+00]])"
      ]
     },
     "execution_count": 34,
     "metadata": {},
     "output_type": "execute_result"
    }
   ],
   "source": [
    "X_train"
   ]
  },
  {
   "cell_type": "code",
   "execution_count": 32,
   "id": "dfeef97e-1bc2-4bfd-b4bd-700071d55aa2",
   "metadata": {},
   "outputs": [
    {
     "ename": "IndexError",
     "evalue": "only integers, slices (`:`), ellipsis (`...`), numpy.newaxis (`None`) and integer or boolean arrays are valid indices",
     "output_type": "error",
     "traceback": [
      "\u001b[0;31m---------------------------------------------------------------------------\u001b[0m",
      "\u001b[0;31mIndexError\u001b[0m                                Traceback (most recent call last)",
      "Cell \u001b[0;32mIn[32], line 2\u001b[0m\n\u001b[1;32m      1\u001b[0m column\u001b[38;5;241m=\u001b[39m\u001b[38;5;124m\"\u001b[39m\u001b[38;5;124mSex\u001b[39m\u001b[38;5;124m\"\u001b[39m\n\u001b[0;32m----> 2\u001b[0m df \u001b[38;5;241m=\u001b[39m pd\u001b[38;5;241m.\u001b[39mconcat([\u001b[43mX\u001b[49m\u001b[43m[\u001b[49m\u001b[43mcolumn\u001b[49m\u001b[43m]\u001b[49m\u001b[38;5;241m.\u001b[39mcopy(), y_true], axis\u001b[38;5;241m=\u001b[39m\u001b[38;5;241m1\u001b[39m)\n\u001b[1;32m      3\u001b[0m df[\u001b[38;5;124m'\u001b[39m\u001b[38;5;124msalary_pred\u001b[39m\u001b[38;5;124m'\u001b[39m] \u001b[38;5;241m=\u001b[39m y_pred\n\u001b[1;32m      4\u001b[0m metrics \u001b[38;5;241m=\u001b[39m []\n",
      "\u001b[0;31mIndexError\u001b[0m: only integers, slices (`:`), ellipsis (`...`), numpy.newaxis (`None`) and integer or boolean arrays are valid indices"
     ]
    }
   ],
   "source": [
    "column = \"Sex\"\n",
    "df = pd.concat([X[column].copy(), y_true], axis=1)\n",
    "df[\"salary_pred\"] = y_pred\n",
    "metrics = []\n",
    "for categ in df[column].unique():\n",
    "    prec, rec, f1 = compute_metrics(\n",
    "        df[df[column] == categ][\"salary_pred\"],\n",
    "        df[df[column] == categ][\"salary\"],\n",
    "    )\n",
    "    metrics.append([categ, prec, rec, f1])\n",
    "    # print(f\"[INFO] {categ}: Precision = {prec:.3f}, Recall = {rec:.3f}, F1 = {f1:.3f}\")"
   ]
  },
  {
   "cell_type": "code",
   "execution_count": null,
   "id": "08541718-3b6d-46da-80f9-e85026cdacae",
   "metadata": {},
   "outputs": [],
   "source": [
    "\n",
    " pd.DataFrame(\n",
    "        metrics,\n",
    "        columns=[\n",
    "            'Category',\n",
    "            'Precision',\n",
    "            'Recall',\n",
    "            'F1'])"
   ]
  },
  {
   "cell_type": "code",
   "execution_count": 27,
   "id": "8b2a9099-1056-4651-843e-2ba16f3f5b29",
   "metadata": {},
   "outputs": [],
   "source": [
    "def plot_roc_curve(fpr, tpr, roc_auc):\n",
    "    \"\"\"\n",
    "    Plots the ROC curve given False Positive Rate (FPR), True Positive Rate (TPR), and AUC score.\n",
    "\n",
    "    Parameters:\n",
    "    - fpr: array-like, False Positive Rate from ROC curve\n",
    "    - tpr: array-like, True Positive Rate from ROC curve\n",
    "    - roc_auc: float, Area Under the Curve (AUC) score\n",
    "    \"\"\"\n",
    "    plt.figure(figsize=(8, 6))\n",
    "    plt.plot(fpr, tpr, color=\"blue\", label=f\"ROC curve (AUC = {roc_auc:.2f})\")\n",
    "    plt.plot(\n",
    "        [0, 1], [0, 1], color=\"gray\", linestyle=\"--\"\n",
    "    )  # Diagonal line (random classifier)\n",
    "    plt.xlabel(\"False Positive Rate\")\n",
    "    plt.ylabel(\"True Positive Rate\")\n",
    "    plt.title(\"Receiver Operating Characteristic (ROC) Curve\")\n",
    "    plt.legend(loc=\"lower right\")\n",
    "    plt.grid(True)\n",
    "    plt.show()"
   ]
  },
  {
   "cell_type": "code",
   "execution_count": 28,
   "id": "914f6e9b-8bb8-4dd2-b33f-442341b860d0",
   "metadata": {},
   "outputs": [
    {
     "data": {
      "image/png": "[encoded data removed]",
      "text/plain": [
       "<Figure size 800x600 with 1 Axes>"
      ]
     },
     "metadata": {},
     "output_type": "display_data"
    }
   ],
   "source": [
    "plot_roc_curve(fpr, tpr, roc_auc)"
   ]
  },
  {
   "cell_type": "code",
   "execution_count": 29,
   "id": "19f1043c-ab69-4da9-ace9-de30ae359ef7",
   "metadata": {},
   "outputs": [],
   "source": [
    "def plot_feature_importance(model, X, max_features=10):\n",
    "    \"\"\"\n",
    "    Plots feature importance for the model, showing the top N features.\n",
    "\n",
    "    Parameters:\n",
    "    - model: trained model with a `feature_importances_` attribute (e.g., RandomForest, XGBoost)\n",
    "    - X: DataFrame or array, features used for training the model (to extract feature names)\n",
    "    - max_features: int, the number of top features to display (default is 10)\n",
    "    \"\"\"\n",
    "\n",
    "    # Extract feature importances (if available)\n",
    "    if hasattr(model, \"feature_importances_\"):\n",
    "        importances = model.feature_importances_\n",
    "\n",
    "        # Get feature names from the DataFrame if it has columns, or generate default names if ndarray\n",
    "        feature_names = (\n",
    "            X.columns\n",
    "            if isinstance(X, pd.DataFrame)\n",
    "            else [f\"Feature {i}\" for i in range(X.shape[1])]\n",
    "        )\n",
    "\n",
    "        # Create DataFrame to sort and plot feature importance\n",
    "        importance_df = (\n",
    "            pd.DataFrame({\"Feature\": feature_names, \"Importance\": importances})\n",
    "            .sort_values(by=\"Importance\", ascending=False)\n",
    "            .head(max_features)\n",
    "        )\n",
    "\n",
    "        # Plot top feature importances\n",
    "        plt.figure(figsize=(8, 6))\n",
    "        plt.barh(\n",
    "            importance_df[\"Feature\"],\n",
    "            importance_df[\"Importance\"],\n",
    "            color=\"purple\",\n",
    "        )\n",
    "        plt.xlabel(\"Importance\")\n",
    "        plt.title(f\"Top {max_features} Feature Importances\")\n",
    "        plt.gca().invert_yaxis()  # Display most important feature at the top\n",
    "        plt.show()\n",
    "    else:\n",
    "        print(\"No feature importance available for this model.\")"
   ]
  },
  {
   "cell_type": "code",
   "execution_count": 30,
   "id": "d2ef8b13-0227-4856-b74f-f906590aa845",
   "metadata": {},
   "outputs": [
    {
     "data": {
      "image/png": "[encoded data removed]",
      "text/plain": [
       "<Figure size 800x600 with 1 Axes>"
      ]
     },
     "metadata": {},
     "output_type": "display_data"
    }
   ],
   "source": [
    "plot_feature_importance(best_model, X, max_features=10)"
   ]
  },
  {
   "cell_type": "code",
   "execution_count": null,
   "id": "871fb03a-b5bf-4032-bb66-4318efa07407",
   "metadata": {},
   "outputs": [],
   "source": []
  }
 ],
 "metadata": {
  "kernelspec": {
   "display_name": "Python 3 (ipykernel)",
   "language": "python",
   "name": "python3"
  },
  "language_info": {
   "codemirror_mode": {
    "name": "ipython",
    "version": 3
   },
   "file_extension": ".py",
   "mimetype": "text/x-python",
   "name": "python",
   "nbconvert_exporter": "python",
   "pygments_lexer": "ipython3",
   "version": "3.10.16"
  }
 },
 "nbformat": 4,
 "nbformat_minor": 5
}
